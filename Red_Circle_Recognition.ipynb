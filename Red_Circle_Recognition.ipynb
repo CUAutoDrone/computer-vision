{
  "nbformat": 4,
  "nbformat_minor": 0,
  "metadata": {
    "colab": {
      "name": "Red Circle Recognition",
      "version": "0.3.2",
      "provenance": [],
      "collapsed_sections": [
        "dwlL-F7lS69i",
        "AZwZNDNvS69j",
        "xOVW7HVVS69m",
        "Xtbn2f03S69z",
        "YV-QLCZKS696"
      ]
    },
    "kernelspec": {
      "display_name": "Python 3",
      "language": "python",
      "name": "python3"
    }
  },
  "cells": [
    {
      "metadata": {
        "hide_input": false,
        "id": "TTuvTCobS66M",
        "colab_type": "text"
      },
      "cell_type": "markdown",
      "source": [
        "# Create a model that recognizes particular hand gestures (or shapes)\n"
      ]
    },
    {
      "metadata": {
        "id": "DgpxtIdIS74i",
        "colab_type": "code",
        "colab": {}
      },
      "cell_type": "code",
      "source": [
        "# run in google colab to access free GPU resources\n",
        "from google.colab import drive\n",
        "drive.mount('/content/gdrive', force_remount=True)\n",
        "root_dir = \"/content/gdrive/My Drive/\"\n",
        "base_dir = root_dir + 'fastai-v3/'"
      ],
      "execution_count": 0,
      "outputs": []
    },
    {
      "metadata": {
        "hide_input": false,
        "id": "8VYaUpyxS66O",
        "colab_type": "code",
        "colab": {}
      },
      "cell_type": "code",
      "source": [
        "from fastai.vision import *"
      ],
      "execution_count": 0,
      "outputs": []
    },
    {
      "metadata": {
        "id": "nQFjIAWXS66R",
        "colab_type": "text"
      },
      "cell_type": "markdown",
      "source": [
        "## Get a folder with images of each gesture (or shape) from different angles\n"
      ]
    },
    {
      "metadata": {
        "id": "JhBqqVemS66W",
        "colab_type": "text"
      },
      "cell_type": "markdown",
      "source": [
        "### Create directory and upload images into your file directory\n"
      ]
    },
    {
      "metadata": {
        "id": "tBgQe1QFS66X",
        "colab_type": "text"
      },
      "cell_type": "markdown",
      "source": [
        "Choose an appropriate name for your labeled images. You can run these steps multiple times to create different labels."
      ]
    },
    {
      "metadata": {
        "id": "wq-WKCziS66Y",
        "colab_type": "code",
        "colab": {}
      },
      "cell_type": "code",
      "source": [
        "folder = 'signal1'"
      ],
      "execution_count": 0,
      "outputs": []
    },
    {
      "metadata": {
        "id": "QNyptC4YS66d",
        "colab_type": "code",
        "colab": {}
      },
      "cell_type": "code",
      "source": [
        "path = Path('data/hand_signals')\n",
        "dest = path/folder\n",
        "dest.mkdir(parents=True, exist_ok=True)"
      ],
      "execution_count": 0,
      "outputs": []
    },
    {
      "metadata": {
        "id": "CHFr1seKS66g",
        "colab_type": "code",
        "colab": {}
      },
      "cell_type": "code",
      "source": [
        "folder = 'signal2'"
      ],
      "execution_count": 0,
      "outputs": []
    },
    {
      "metadata": {
        "id": "H7uF5zJDS66n",
        "colab_type": "code",
        "colab": {}
      },
      "cell_type": "code",
      "source": [
        "path = Path('data/hand_signals')\n",
        "dest = path/folder\n",
        "dest.mkdir(parents=True, exist_ok=True)\n",
        "\n",
        "#do this for each new hand signal / shape desired"
      ],
      "execution_count": 0,
      "outputs": []
    },
    {
      "metadata": {
        "id": "ZMwXwO2GS66t",
        "colab_type": "code",
        "colab": {}
      },
      "cell_type": "code",
      "source": [
        "path.ls()"
      ],
      "execution_count": 0,
      "outputs": []
    },
    {
      "metadata": {
        "id": "15hAgv7eS66z",
        "colab_type": "text"
      },
      "cell_type": "markdown",
      "source": [
        "## Download images"
      ]
    },
    {
      "metadata": {
        "id": "dQFUi9zkS660",
        "colab_type": "text"
      },
      "cell_type": "markdown",
      "source": [
        "If you want to download google images in programmatic way, see the fast.ai original notebook: https://github.com/fastai/course-v3/blob/master/nbs/dl1/lesson2-download.ipynb"
      ]
    },
    {
      "metadata": {
        "id": "v8wrHzYAS661",
        "colab_type": "code",
        "colab": {}
      },
      "cell_type": "code",
      "source": [
        "classes = ['signal1','signal2']"
      ],
      "execution_count": 0,
      "outputs": []
    },
    {
      "metadata": {
        "id": "xpTGt3LrS67B",
        "colab_type": "text"
      },
      "cell_type": "markdown",
      "source": [
        "Then we can remove any images that can't be opened:"
      ]
    },
    {
      "metadata": {
        "id": "9M8VfVIOS67C",
        "colab_type": "code",
        "colab": {}
      },
      "cell_type": "code",
      "source": [
        "for c in classes:\n",
        "    print(c)\n",
        "    verify_images(path/c, delete=True, max_size=500)"
      ],
      "execution_count": 0,
      "outputs": []
    },
    {
      "metadata": {
        "id": "uCiOjkXFmwGx",
        "colab_type": "code",
        "colab": {}
      },
      "cell_type": "code",
      "source": [
        ""
      ],
      "execution_count": 0,
      "outputs": []
    },
    {
      "metadata": {
        "id": "pnUrbUv7S67H",
        "colab_type": "text"
      },
      "cell_type": "markdown",
      "source": [
        "## View data"
      ]
    },
    {
      "metadata": {
        "id": "b62JMI7fS67J",
        "colab_type": "code",
        "colab": {}
      },
      "cell_type": "code",
      "source": [
        "np.random.seed(42)\n",
        "data = ImageDataBunch.from_folder(path, train=\".\", valid_pct=0.2,\n",
        "        ds_tfms=get_transforms(), size=224, num_workers=4).normalize(imagenet_stats)"
      ],
      "execution_count": 0,
      "outputs": []
    },
    {
      "metadata": {
        "id": "1B8V0TAJS67O",
        "colab_type": "code",
        "colab": {}
      },
      "cell_type": "code",
      "source": [
        "# If you already cleaned your data, run this cell instead of the one before\n",
        "# np.random.seed(42)\n",
        "# data = ImageDataBunch.from_csv(path, folder=\".\", valid_pct=0.2, csv_labels='cleaned.csv',\n",
        "#         ds_tfms=get_transforms(), size=224, num_workers=4).normalize(imagenet_stats)"
      ],
      "execution_count": 0,
      "outputs": []
    },
    {
      "metadata": {
        "id": "kEsZUug-S67U",
        "colab_type": "text"
      },
      "cell_type": "markdown",
      "source": [
        "Good! Let's take a look at some of our pictures then."
      ]
    },
    {
      "metadata": {
        "id": "lb5xD7zGS67W",
        "colab_type": "code",
        "colab": {}
      },
      "cell_type": "code",
      "source": [
        "data.classes"
      ],
      "execution_count": 0,
      "outputs": []
    },
    {
      "metadata": {
        "id": "LhAIuCIUS67b",
        "colab_type": "code",
        "colab": {}
      },
      "cell_type": "code",
      "source": [
        "data.show_batch(rows=3, figsize=(7,8))"
      ],
      "execution_count": 0,
      "outputs": []
    },
    {
      "metadata": {
        "id": "lc5aC32-S67i",
        "colab_type": "code",
        "colab": {}
      },
      "cell_type": "code",
      "source": [
        "data.classes, data.c, len(data.train_ds), len(data.valid_ds)"
      ],
      "execution_count": 0,
      "outputs": []
    },
    {
      "metadata": {
        "id": "0umPFZeSS67m",
        "colab_type": "text"
      },
      "cell_type": "markdown",
      "source": [
        "## Train model"
      ]
    },
    {
      "metadata": {
        "id": "DHax9LhqS67m",
        "colab_type": "code",
        "colab": {}
      },
      "cell_type": "code",
      "source": [
        "learn = cnn_learner(data, models.resnet34, metrics=error_rate)"
      ],
      "execution_count": 0,
      "outputs": []
    },
    {
      "metadata": {
        "id": "SrNLFpLTS67p",
        "colab_type": "code",
        "colab": {}
      },
      "cell_type": "code",
      "source": [
        "learn.fit_one_cycle(4)"
      ],
      "execution_count": 0,
      "outputs": []
    },
    {
      "metadata": {
        "id": "xVrNP0bmS67u",
        "colab_type": "code",
        "colab": {}
      },
      "cell_type": "code",
      "source": [
        "learn.save('stage-1')"
      ],
      "execution_count": 0,
      "outputs": []
    },
    {
      "metadata": {
        "id": "GxhHZZy8S67y",
        "colab_type": "code",
        "colab": {}
      },
      "cell_type": "code",
      "source": [
        "learn.unfreeze()"
      ],
      "execution_count": 0,
      "outputs": []
    },
    {
      "metadata": {
        "id": "4EDokQ9mS672",
        "colab_type": "code",
        "colab": {}
      },
      "cell_type": "code",
      "source": [
        "learn.lr_find()"
      ],
      "execution_count": 0,
      "outputs": []
    },
    {
      "metadata": {
        "id": "N3BjvPmES675",
        "colab_type": "code",
        "colab": {}
      },
      "cell_type": "code",
      "source": [
        "learn.recorder.plot()"
      ],
      "execution_count": 0,
      "outputs": []
    },
    {
      "metadata": {
        "id": "OndPiw_7S679",
        "colab_type": "code",
        "colab": {}
      },
      "cell_type": "code",
      "source": [
        "learn.fit_one_cycle(2, max_lr=slice(3e-5,3e-4))"
      ],
      "execution_count": 0,
      "outputs": []
    },
    {
      "metadata": {
        "id": "eScchA1GS68G",
        "colab_type": "code",
        "colab": {}
      },
      "cell_type": "code",
      "source": [
        "learn.save('stage-2')"
      ],
      "execution_count": 0,
      "outputs": []
    },
    {
      "metadata": {
        "id": "aGAVlnypS68O",
        "colab_type": "text"
      },
      "cell_type": "markdown",
      "source": [
        "## Interpretation"
      ]
    },
    {
      "metadata": {
        "id": "r3N72vsqS68Q",
        "colab_type": "code",
        "colab": {}
      },
      "cell_type": "code",
      "source": [
        "learn.load('stage-2');"
      ],
      "execution_count": 0,
      "outputs": []
    },
    {
      "metadata": {
        "id": "gCd8WR3eS68Y",
        "colab_type": "code",
        "colab": {}
      },
      "cell_type": "code",
      "source": [
        "interp = ClassificationInterpretation.from_learner(learn)"
      ],
      "execution_count": 0,
      "outputs": []
    },
    {
      "metadata": {
        "id": "HiYhjCVjS68b",
        "colab_type": "code",
        "colab": {}
      },
      "cell_type": "code",
      "source": [
        "interp.plot_confusion_matrix()"
      ],
      "execution_count": 0,
      "outputs": []
    },
    {
      "metadata": {
        "id": "beq5dbpES68d",
        "colab_type": "text"
      },
      "cell_type": "markdown",
      "source": [
        "## Cleaning Up\n",
        "\n",
        "Some of our top losses aren't due to bad performance by our model. There are images in our data set that shouldn't be.\n",
        "\n",
        "Using the `ImageCleaner` widget from `fastai.widgets` we can prune our top losses, removing photos that don't belong."
      ]
    },
    {
      "metadata": {
        "id": "nAIyiFgZS68g",
        "colab_type": "code",
        "colab": {}
      },
      "cell_type": "code",
      "source": [
        "from fastai.widgets import *"
      ],
      "execution_count": 0,
      "outputs": []
    },
    {
      "metadata": {
        "id": "gfuMw6d6S68m",
        "colab_type": "text"
      },
      "cell_type": "markdown",
      "source": [
        "First we need to get the file paths from our top_losses. We can do this with `.from_toplosses`. We then feed the top losses indexes and corresponding dataset to `ImageCleaner`.\n",
        "\n",
        "Notice that the widget will not delete images directly from disk but it will create a new csv file `cleaned.csv` from where you can create a new ImageDataBunch with the corrected labels to continue training your model."
      ]
    },
    {
      "metadata": {
        "id": "NtqKYzZ4S68o",
        "colab_type": "text"
      },
      "cell_type": "markdown",
      "source": [
        "In order to clean the entire set of images, we need to create a new dataset without the split. The video lecture demostrated the use of the `ds_type` param which no longer has any effect. See [the thread](https://forums.fast.ai/t/duplicate-widget/30975/10) for more details."
      ]
    },
    {
      "metadata": {
        "id": "K36kfBQ4S68p",
        "colab_type": "code",
        "colab": {}
      },
      "cell_type": "code",
      "source": [
        "db = (ImageList.from_folder(path)\n",
        "                   .no_split()\n",
        "                   .label_from_folder()\n",
        "                   .transform(get_transforms(), size=224)\n",
        "                   .databunch()\n",
        "     )"
      ],
      "execution_count": 0,
      "outputs": []
    },
    {
      "metadata": {
        "id": "mmDIxUHiS68s",
        "colab_type": "code",
        "colab": {}
      },
      "cell_type": "code",
      "source": [
        "# If you already cleaned your data using indexes from `from_toplosses`,\n",
        "# run this cell instead of the one before to proceed with removing duplicates.\n",
        "# Otherwise all the results of the previous step would be overwritten by\n",
        "# the new run of `ImageCleaner`.\n",
        "\n",
        "# db = (ImageList.from_csv(path, 'cleaned.csv', folder='.')\n",
        "#                    .no_split()\n",
        "#                    .label_from_df()\n",
        "#                    .transform(get_transforms(), size=224)\n",
        "#                    .databunch()\n",
        "#      )"
      ],
      "execution_count": 0,
      "outputs": []
    },
    {
      "metadata": {
        "id": "MY_qEhTrS68w",
        "colab_type": "text"
      },
      "cell_type": "markdown",
      "source": [
        "Then we create a new learner to use our new databunch with all the images."
      ]
    },
    {
      "metadata": {
        "id": "sv3_LhUlS68w",
        "colab_type": "code",
        "colab": {}
      },
      "cell_type": "code",
      "source": [
        "learn_cln = cnn_learner(db, models.resnet34, metrics=error_rate)\n",
        "\n",
        "learn_cln.load('stage-2');"
      ],
      "execution_count": 0,
      "outputs": []
    },
    {
      "metadata": {
        "id": "hu81pNkyS68y",
        "colab_type": "code",
        "colab": {}
      },
      "cell_type": "code",
      "source": [
        "ds, idxs = DatasetFormatter().from_toplosses(learn_cln)"
      ],
      "execution_count": 0,
      "outputs": []
    },
    {
      "metadata": {
        "id": "8W7_JSVFS682",
        "colab_type": "text"
      },
      "cell_type": "markdown",
      "source": [
        "Make sure you're running this notebook in Jupyter Notebook, not Jupyter Lab. That is accessible via [/tree](/tree), not [/lab](/lab). Running the `ImageCleaner` widget in Jupyter Lab is [not currently supported](https://github.com/fastai/fastai/issues/1539)."
      ]
    },
    {
      "metadata": {
        "id": "Tw57GJUoS683",
        "colab_type": "code",
        "colab": {}
      },
      "cell_type": "code",
      "source": [
        "ImageCleaner(ds, idxs, path)"
      ],
      "execution_count": 0,
      "outputs": []
    },
    {
      "metadata": {
        "id": "j_1kM69eS686",
        "colab_type": "text"
      },
      "cell_type": "markdown",
      "source": [
        "Flag photos for deletion by clicking 'Delete'. Then click 'Next Batch' to delete flagged photos and keep the rest in that row. `ImageCleaner` will show you a new row of images until there are no more to show. In this case, the widget will show you images until there are none left from `top_losses.ImageCleaner(ds, idxs)`"
      ]
    },
    {
      "metadata": {
        "id": "IxaznkbUS687",
        "colab_type": "text"
      },
      "cell_type": "markdown",
      "source": [
        "You can also find duplicates in your dataset and delete them! To do this, you need to run `.from_similars` to get the potential duplicates' ids and then run `ImageCleaner` with `duplicates=True`. The API works in a similar way as with misclassified images: just choose the ones you want to delete and click 'Next Batch' until there are no more images left."
      ]
    },
    {
      "metadata": {
        "id": "r1Oz320pS687",
        "colab_type": "text"
      },
      "cell_type": "markdown",
      "source": [
        "Make sure to recreate the databunch and `learn_cln` from the `cleaned.csv` file. Otherwise the file would be overwritten from scratch, loosing all the results from cleaning the data from toplosses."
      ]
    },
    {
      "metadata": {
        "id": "sob-5JoJS688",
        "colab_type": "code",
        "colab": {}
      },
      "cell_type": "code",
      "source": [
        "ds, idxs = DatasetFormatter().from_similars(learn_cln)"
      ],
      "execution_count": 0,
      "outputs": []
    },
    {
      "metadata": {
        "id": "pI2qqtjeS68-",
        "colab_type": "code",
        "colab": {}
      },
      "cell_type": "code",
      "source": [
        "ImageCleaner(ds, idxs, path, duplicates=True)"
      ],
      "execution_count": 0,
      "outputs": []
    },
    {
      "metadata": {
        "id": "4xy-b6kHS69A",
        "colab_type": "text"
      },
      "cell_type": "markdown",
      "source": [
        "Remember to recreate your ImageDataBunch from your `cleaned.csv` to include the changes you made in your data!"
      ]
    },
    {
      "metadata": {
        "id": "UJO3LsyXS69A",
        "colab_type": "text"
      },
      "cell_type": "markdown",
      "source": [
        "## Putting your model in production"
      ]
    },
    {
      "metadata": {
        "id": "KsNWF4mfS69B",
        "colab_type": "text"
      },
      "cell_type": "markdown",
      "source": [
        "First thing first, let's export the content of our `Learner` object for production:"
      ]
    },
    {
      "metadata": {
        "id": "84XI4tXaS69E",
        "colab_type": "code",
        "colab": {}
      },
      "cell_type": "code",
      "source": [
        "learn.export()"
      ],
      "execution_count": 0,
      "outputs": []
    },
    {
      "metadata": {
        "id": "mlFNn6hTS69K",
        "colab_type": "text"
      },
      "cell_type": "markdown",
      "source": [
        "This will create a file named 'export.pkl' in the directory where we were working that contains everything we need to deploy our model (the model, the weights but also some metadata like the classes or the transforms/normalization used)."
      ]
    },
    {
      "metadata": {
        "id": "G-b5DEh3S69U",
        "colab_type": "text"
      },
      "cell_type": "markdown",
      "source": [
        "You probably want to use CPU for inference, except at massive scale (and you almost certainly don't need to train in real-time). If you don't have a GPU that happens automatically. You can test your model on CPU like so:"
      ]
    },
    {
      "metadata": {
        "id": "-tqa4Q4qS69V",
        "colab_type": "code",
        "colab": {}
      },
      "cell_type": "code",
      "source": [
        "defaults.device = torch.device('cpu')"
      ],
      "execution_count": 0,
      "outputs": []
    },
    {
      "metadata": {
        "id": "I3_ZExxkS69Y",
        "colab_type": "code",
        "colab": {}
      },
      "cell_type": "code",
      "source": [
        "img = open_image(path/'black'/'00000021.jpg')\n",
        "img"
      ],
      "execution_count": 0,
      "outputs": []
    },
    {
      "metadata": {
        "id": "msHPDvQxS69b",
        "colab_type": "text"
      },
      "cell_type": "markdown",
      "source": [
        "We create our `Learner` in production enviromnent like this, jsut make sure that `path` contains the file 'export.pkl' from before."
      ]
    },
    {
      "metadata": {
        "id": "12YV2Pc3S69b",
        "colab_type": "code",
        "colab": {}
      },
      "cell_type": "code",
      "source": [
        "learn = load_learner(path)"
      ],
      "execution_count": 0,
      "outputs": []
    },
    {
      "metadata": {
        "id": "cxheVyV1S69d",
        "colab_type": "code",
        "colab": {}
      },
      "cell_type": "code",
      "source": [
        "pred_class,pred_idx,outputs = learn.predict(img)\n",
        "pred_class"
      ],
      "execution_count": 0,
      "outputs": []
    },
    {
      "metadata": {
        "id": "ZqMavddGS69h",
        "colab_type": "text"
      },
      "cell_type": "markdown",
      "source": [
        "So you might create a route something like this ([thanks](https://github.com/simonw/cougar-or-not) to Simon Willison for the structure of this code):\n",
        "\n",
        "```python\n",
        "@app.route(\"/classify-url\", methods=[\"GET\"])\n",
        "async def classify_url(request):\n",
        "    bytes = await get_bytes(request.query_params[\"url\"])\n",
        "    img = open_image(BytesIO(bytes))\n",
        "    _,_,losses = learner.predict(img)\n",
        "    return JSONResponse({\n",
        "        \"predictions\": sorted(\n",
        "            zip(cat_learner.data.classes, map(float, losses)),\n",
        "            key=lambda p: p[1],\n",
        "            reverse=True\n",
        "        )\n",
        "    })\n",
        "```\n",
        "\n",
        "(This example is for the [Starlette](https://www.starlette.io/) web app toolkit.)"
      ]
    },
    {
      "metadata": {
        "id": "dwlL-F7lS69i",
        "colab_type": "text"
      },
      "cell_type": "markdown",
      "source": [
        "## Things that can go wrong"
      ]
    },
    {
      "metadata": {
        "id": "m4y2retzS69j",
        "colab_type": "text"
      },
      "cell_type": "markdown",
      "source": [
        "- Most of the time things will train fine with the defaults\n",
        "- There's not much you really need to tune (despite what you've heard!)\n",
        "- Most likely are\n",
        "  - Learning rate\n",
        "  - Number of epochs"
      ]
    },
    {
      "metadata": {
        "id": "AZwZNDNvS69j",
        "colab_type": "text"
      },
      "cell_type": "markdown",
      "source": [
        "### Learning rate (LR) too high"
      ]
    },
    {
      "metadata": {
        "id": "mpZIhH37S69j",
        "colab_type": "code",
        "colab": {}
      },
      "cell_type": "code",
      "source": [
        "learn = cnn_learner(data, models.resnet34, metrics=error_rate)"
      ],
      "execution_count": 0,
      "outputs": []
    },
    {
      "metadata": {
        "id": "oFeDwz50S69l",
        "colab_type": "code",
        "colab": {}
      },
      "cell_type": "code",
      "source": [
        "learn.fit_one_cycle(1, max_lr=0.5)"
      ],
      "execution_count": 0,
      "outputs": []
    },
    {
      "metadata": {
        "id": "xOVW7HVVS69m",
        "colab_type": "text"
      },
      "cell_type": "markdown",
      "source": [
        "### Learning rate (LR) too low"
      ]
    },
    {
      "metadata": {
        "id": "aWcSG4-US69n",
        "colab_type": "code",
        "colab": {}
      },
      "cell_type": "code",
      "source": [
        "learn = cnn_learner(data, models.resnet34, metrics=error_rate)"
      ],
      "execution_count": 0,
      "outputs": []
    },
    {
      "metadata": {
        "id": "XWPuILBXS69q",
        "colab_type": "text"
      },
      "cell_type": "markdown",
      "source": [
        "Previously we had this result:\n",
        "\n",
        "```\n",
        "Total time: 00:57\n",
        "epoch  train_loss  valid_loss  error_rate\n",
        "1      1.030236    0.179226    0.028369    (00:14)\n",
        "2      0.561508    0.055464    0.014184    (00:13)\n",
        "3      0.396103    0.053801    0.014184    (00:13)\n",
        "4      0.316883    0.050197    0.021277    (00:15)\n",
        "```"
      ]
    },
    {
      "metadata": {
        "id": "dUYkKoNVS69q",
        "colab_type": "code",
        "colab": {}
      },
      "cell_type": "code",
      "source": [
        "learn.fit_one_cycle(5, max_lr=1e-5)"
      ],
      "execution_count": 0,
      "outputs": []
    },
    {
      "metadata": {
        "id": "WdttiaStS69u",
        "colab_type": "code",
        "colab": {}
      },
      "cell_type": "code",
      "source": [
        "learn.recorder.plot_losses()"
      ],
      "execution_count": 0,
      "outputs": []
    },
    {
      "metadata": {
        "id": "8qGs3RWyS69z",
        "colab_type": "text"
      },
      "cell_type": "markdown",
      "source": [
        "As well as taking a really long time, it's getting too many looks at each image, so may overfit."
      ]
    },
    {
      "metadata": {
        "id": "Xtbn2f03S69z",
        "colab_type": "text"
      },
      "cell_type": "markdown",
      "source": [
        "### Too few epochs"
      ]
    },
    {
      "metadata": {
        "id": "XGmQrPLNS690",
        "colab_type": "code",
        "colab": {}
      },
      "cell_type": "code",
      "source": [
        "learn = cnn_learner(data, models.resnet34, metrics=error_rate, pretrained=False)"
      ],
      "execution_count": 0,
      "outputs": []
    },
    {
      "metadata": {
        "id": "mkSjxl8MS693",
        "colab_type": "code",
        "colab": {}
      },
      "cell_type": "code",
      "source": [
        "learn.fit_one_cycle(1)"
      ],
      "execution_count": 0,
      "outputs": []
    },
    {
      "metadata": {
        "id": "YV-QLCZKS696",
        "colab_type": "text"
      },
      "cell_type": "markdown",
      "source": [
        "### Too many epochs"
      ]
    },
    {
      "metadata": {
        "id": "rgoc4nQpS698",
        "colab_type": "code",
        "colab": {}
      },
      "cell_type": "code",
      "source": [
        "np.random.seed(42)\n",
        "data = ImageDataBunch.from_folder(path, train=\".\", valid_pct=0.9, bs=32, \n",
        "        ds_tfms=get_transforms(do_flip=False, max_rotate=0, max_zoom=1, max_lighting=0, max_warp=0\n",
        "                              ),size=224, num_workers=4).normalize(imagenet_stats)"
      ],
      "execution_count": 0,
      "outputs": []
    },
    {
      "metadata": {
        "id": "Qrngb5tVS6-A",
        "colab_type": "code",
        "colab": {}
      },
      "cell_type": "code",
      "source": [
        "learn = cnn_learner(data, models.resnet50, metrics=error_rate, ps=0, wd=0)\n",
        "learn.unfreeze()"
      ],
      "execution_count": 0,
      "outputs": []
    },
    {
      "metadata": {
        "id": "vQpnBs9pS6-E",
        "colab_type": "code",
        "colab": {}
      },
      "cell_type": "code",
      "source": [
        "learn.fit_one_cycle(40, slice(1e-6,1e-4))"
      ],
      "execution_count": 0,
      "outputs": []
    }
  ]
}